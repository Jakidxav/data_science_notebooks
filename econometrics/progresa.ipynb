{
 "cells": [
  {
   "cell_type": "markdown",
   "metadata": {
    "ein.tags": "worksheet-0",
    "slideshow": {
     "slide_type": "-"
    }
   },
   "source": [
    "## Introduction\n",
    "\n",
    "I completed this project as part of my Advanced Data Science Methods course that I took at the University of Washington.\n",
    "\n",
    "This Jupyter Notebook uses data from the [Progresa\n",
    "program](http://en.wikipedia.org/wiki/Oportunidades), a government\n",
    "social assistance program in Mexico. This program, as well as the\n",
    "details of its impact, are described in the paper \"[School subsidies\n",
    "for the poor: evaluating the Mexican Progresa poverty\n",
    "program](http://www.sciencedirect.com/science/article/pii/S0304387803001858)\",\n",
    "by Paul Shultz.\n",
    "\n",
    "The goal of this Notebook is to implement some of the basic\n",
    "econometric techniques that might be used to evaluate a program like Progresa.\n",
    "\n",
    "Say we want to measure the impact of Progresa on secondary school enrollment rates, in particular differences-in-differences.  We can try to estimate the impact of\n",
    "_progresa_ subsidies on the school attendance, which is to say establishing a cause-effect relationship.\n",
    "\n",
    "The timeline of the program was:\n",
    "\n",
    " * Baseline survey conducted in 1997\n",
    " * Intervention begins in 1998, \"Wave 1\" of data collected in 1998\n",
    " * \"Wave 2 of data\" collected in 1999\n",
    " * Evaluation ends in 2000, at which point the control villages given access to the program. \n",
    " \n",
    "In the data, each row corresponds to an observation taken for a given child for a given year. There are two years of data (1997 and 1998), and just under 40,000 children who are\n",
    "surveyed in both years.  For each child-year observation, the following variables are collected:\n",
    "\n",
    "| Variable name | Description|\n",
    "|------|------|\n",
    "|year\t  |year in which data is collected\n",
    "|sex\t  |male = 1|\n",
    "|indig\t  |indigenous = 1|\n",
    "|dist_sec |nearest distance to a secondary school|\n",
    "|sc\t      |enrolled in school in year of survey (=1)|\n",
    "|grc      |grade enrolled|\n",
    "|fam_n    |family size|\n",
    "|min_dist |\tmin distance to an urban center|\n",
    "|dist_cap |\tmin distance to the capital|\n",
    "|poor     |\tpoor = \"pobre\", not poor = \"no pobre\"|\n",
    "|progresa |program = \"basal\", control = \"0\"|\n",
    "|hohedu\t  |years of schooling of head of household|\n",
    "|hohwag\t  |monthly wages of head of household|\n",
    "|welfare_index|\twelfare index used to classify poor|\n",
    "|hohsex\t|gender of head of household (male=1)|\n",
    "|hohage\t|age of head of household|\n",
    "|age\t|years old|\n",
    "|folnum\t|individual id|\n",
    "|village|\tvillage id|\n",
    "|sc97\t|enrolled in school in 1997 (=1) |"
   ]
  },
  {
   "cell_type": "code",
   "execution_count": 1,
   "metadata": {
    "autoscroll": false,
    "ein.tags": "worksheet-0",
    "slideshow": {
     "slide_type": "-"
    }
   },
   "outputs": [],
   "source": [
    "import numpy as np\n",
    "import pandas as pd\n",
    "import statsmodels.formula.api as smf\n",
    "from scipy import stats\n",
    "\n",
    "import matplotlib.pyplot as plt\n",
    "%matplotlib inline\n",
    "import seaborn as sns"
   ]
  },
  {
   "cell_type": "markdown",
   "metadata": {},
   "source": [
    "## EDA"
   ]
  },
  {
   "cell_type": "code",
   "execution_count": 2,
   "metadata": {},
   "outputs": [
    {
     "name": "stdout",
     "output_type": "stream",
     "text": [
      "   year  sex  indig  dist_sec   sc  grc  fam_n   min_dist   dist_cap   poor  \\\n",
      "0    97  0.0    0.0     4.473  1.0  7.0      7  21.168384  21.168384  pobre   \n",
      "1    98  0.0    0.0     4.473  1.0  8.0      7  21.168384  21.168384  pobre   \n",
      "2    97  1.0    0.0     4.473  1.0  6.0      7  21.168384  21.168384  pobre   \n",
      "3    98  1.0    0.0     4.473  1.0  7.0      7  21.168384  21.168384  pobre   \n",
      "4    97  0.0    0.0     4.473  1.0  2.0      7  21.168384  21.168384  pobre   \n",
      "\n",
      "   ... hohedu  hohwag  welfare_index  hohsex  hohage  age  village  folnum  \\\n",
      "0  ...      6     0.0          583.0     1.0    35.0   13      163       1   \n",
      "1  ...      6     0.0          583.0     1.0    35.0   14      163       1   \n",
      "2  ...      6     0.0          583.0     1.0    35.0   12      163       2   \n",
      "3  ...      6     0.0          583.0     1.0    35.0   13      163       2   \n",
      "4  ...      6     0.0          583.0     1.0    35.0    8      163       3   \n",
      "\n",
      "   grc97  sc97  \n",
      "0      7   1.0  \n",
      "1      7   1.0  \n",
      "2      6   1.0  \n",
      "3      6   1.0  \n",
      "4      2   1.0  \n",
      "\n",
      "[5 rows x 21 columns]\n"
     ]
    }
   ],
   "source": [
    "data = pd.read_csv('progresa_sample.csv.gz', delimiter=',')\n",
    "print(data.head(5))"
   ]
  },
  {
   "cell_type": "code",
   "execution_count": 3,
   "metadata": {},
   "outputs": [
    {
     "name": "stdout",
     "output_type": "stream",
     "text": [
      "Data shape:  (77250, 21) \n",
      "\n"
     ]
    }
   ],
   "source": [
    "rows, cols = data.shape\n",
    "print('Data shape: ', data.shape, '\\n')"
   ]
  },
  {
   "cell_type": "code",
   "execution_count": 4,
   "metadata": {},
   "outputs": [
    {
     "name": "stdout",
     "output_type": "stream",
     "text": [
      "<class 'pandas.core.frame.DataFrame'>\n",
      "RangeIndex: 77250 entries, 0 to 77249\n",
      "Data columns (total 21 columns):\n",
      "year             77250 non-null int64\n",
      "sex              77226 non-null float64\n",
      "indig            76950 non-null float64\n",
      "dist_sec         77250 non-null float64\n",
      "sc               68797 non-null float64\n",
      "grc              70701 non-null float64\n",
      "fam_n            77250 non-null int64\n",
      "min_dist         77250 non-null float64\n",
      "dist_cap         77250 non-null float64\n",
      "poor             77250 non-null object\n",
      "progresa         77250 non-null object\n",
      "hohedu           77250 non-null int64\n",
      "hohwag           77250 non-null float64\n",
      "welfare_index    77040 non-null float64\n",
      "hohsex           77230 non-null float64\n",
      "hohage           77240 non-null float64\n",
      "age              77250 non-null int64\n",
      "village          77250 non-null int64\n",
      "folnum           77250 non-null int64\n",
      "grc97            77250 non-null int64\n",
      "sc97             73378 non-null float64\n",
      "dtypes: float64(12), int64(7), object(2)\n",
      "memory usage: 12.4+ MB\n",
      "None\n"
     ]
    }
   ],
   "source": [
    "print(data.info())"
   ]
  },
  {
   "cell_type": "markdown",
   "metadata": {},
   "source": [
    "We see that some of the data is of \"string\" type, whereas we will need numeric columns for our analysis. We can quickly take care of this by converting the columns containing string values to dummy variables.\n",
    "\n",
    "We also have missing values, and will need to take care of those before we start our analysis. But before we do that, let's create a summary table of all of our columns."
   ]
  },
  {
   "cell_type": "code",
   "execution_count": 5,
   "metadata": {},
   "outputs": [],
   "source": [
    "#include dummy variables\n",
    "data['poor_'] = np.where(data.poor == 'pobre', 1, 0)\n",
    "data['progresa_'] = np.where(data.progresa == 'basal', 1, 0)"
   ]
  },
  {
   "cell_type": "code",
   "execution_count": 6,
   "metadata": {},
   "outputs": [
    {
     "name": "stdout",
     "output_type": "stream",
     "text": [
      "               missing values       means       stdev\n",
      "age                         0   11.366460    3.167744\n",
      "dist_cap                    0  147.674452   76.063134\n",
      "dist_sec                    0    2.418910    2.234109\n",
      "fam_n                       0    7.215715    2.352900\n",
      "grc                      6549    3.963537    2.499063\n",
      "grc97                       0    3.705372    2.572387\n",
      "hohage                     10   44.436717   11.620372\n",
      "hohedu                      0    2.768104    2.656106\n",
      "hohsex                     20    0.925185    0.263095\n",
      "hohwag                      0  586.985312  788.133664\n",
      "indig                     300    0.298324    0.457525\n",
      "min_dist                    0  103.447520   42.089441\n",
      "poor                        0         NaN         NaN\n",
      "poor_                       0    0.846498    0.360473\n",
      "progresa                    0         NaN         NaN\n",
      "progresa_                   0    0.615663    0.486441\n",
      "sc                       8453    0.819818    0.384342\n",
      "sc97                     3872    0.813922    0.389172\n",
      "sex                        24    0.512211    0.499854\n",
      "welfare_index             210  690.346564  139.491130\n"
     ]
    }
   ],
   "source": [
    "#summary statistics\n",
    "sum_stats = pd.DataFrame({'missing values': data.isnull().sum(), 'means': data.mean(), 'stdev': data.std()}, \n",
    "                        index = data.columns)\n",
    "\n",
    "sum_stats.drop(['year', 'folnum', 'village'], inplace=True)\n",
    "\n",
    "sum_stats.sort_index(inplace=True)\n",
    "print(sum_stats)"
   ]
  },
  {
   "cell_type": "markdown",
   "metadata": {
    "ein.tags": "worksheet-0",
    "slideshow": {
     "slide_type": "-"
    }
   },
   "source": [
    "Including the actual columns of 'poor' and 'progresa', we see that the mean and standard deviations return NaN. This is what we would expect for strings contained in those columns. However, having made dummy variables for both columns, poor_ and progresa_, we can use these for the mean and standard deviation calculations.\n",
    "\n",
    "Now we can investigate the differences in baseline.  Are the baseline (1997) demographic characteristics for the poor different in control villages and those that participated in the program?\n",
    "\n",
    "We can use a T-Test to determine whether there is a statistically significant difference in\n",
    "the average values of each of the variables in the dataset."
   ]
  },
  {
   "cell_type": "code",
   "execution_count": 7,
   "metadata": {
    "autoscroll": false,
    "ein.tags": "worksheet-0",
    "slideshow": {
     "slide_type": "-"
    }
   },
   "outputs": [],
   "source": [
    "#program: progresa_ == 1, year == 1997, poor_ == 1\n",
    "program = pd.DataFrame(data[(data.year==97) & (data.poor_==1) & (data.progresa_==1)])\n",
    "program.drop(['year', 'poor', 'progresa', 'village', 'folnum', 'poor_', 'progresa_'], axis = 1, inplace=True)\n",
    "\n",
    "no_program = pd.DataFrame(data[(data.year==97) & (data.poor_==1) & (data.progresa_==0)])\n",
    "no_program.drop(['year', 'poor', 'progresa', 'village', 'folnum', 'poor_', 'progresa_'], axis = 1, inplace=True)"
   ]
  },
  {
   "cell_type": "code",
   "execution_count": 8,
   "metadata": {},
   "outputs": [],
   "source": [
    "#find means, standard deviations, and sizes\n",
    "program_stdev = program.std()\n",
    "program_means = program.mean()\n",
    "size1 = len(program.index)\n",
    "\n",
    "no_program_stdev = no_program.std()\n",
    "no_program_means = no_program.mean()\n",
    "size2 = len(no_program.index)"
   ]
  },
  {
   "cell_type": "code",
   "execution_count": 9,
   "metadata": {},
   "outputs": [],
   "source": [
    "#t-test\n",
    "std_error1 = program_stdev**2 / size1\n",
    "std_error2 = no_program_stdev**2 / size2\n",
    "total_std_error = np.sqrt(std_error1 + std_error2)\n",
    "\n",
    "t_stat = (program_means - no_program_means) / total_std_error\n",
    "\n",
    "#df for two samples is (n1 + n2) - 2\n",
    "degrees_freedom = size1 + size2 - 2\n",
    "\n",
    "pValue = 1 - stats.t.cdf(t_stat, df=degrees_freedom)\n",
    "p2 = pValue.round(7)"
   ]
  },
  {
   "cell_type": "code",
   "execution_count": 10,
   "metadata": {},
   "outputs": [
    {
     "name": "stdout",
     "output_type": "stream",
     "text": [
      "               Avg (Program)  Avg (Control)  Difference   p-value\n",
      "min_dist          107.152915     103.237854    3.915060  0.000000\n",
      "hohedu              2.663139       2.590348    0.072791  0.005191\n",
      "sex                 0.519317       0.505052    0.014265  0.006096\n",
      "sc                  0.822697       0.815186    0.007511  0.043637\n",
      "sc97                0.822697       0.815186    0.007511  0.043637\n",
      "hohsex              0.924656       0.922947    0.001709  0.286038\n",
      "grc                 3.531599       3.543050   -0.011450  0.655239\n",
      "grc97               3.531599       3.543050   -0.011450  0.655239\n",
      "age                10.716991      10.742023   -0.025032  0.760819\n",
      "fam_n               7.281327       7.302469   -0.021142  0.785517\n",
      "indig               0.325986       0.332207   -0.006222  0.877457\n",
      "dist_sec            2.453122       2.507662   -0.054540  0.978670\n",
      "welfare_index     655.428377     659.579100   -4.150723  0.999250\n",
      "dist_cap          150.829074     153.769730   -2.940656  0.999427\n",
      "hohwag            544.339544     573.163558  -28.824015  0.999836\n",
      "hohage             43.648828      44.276918   -0.628090  0.999999\n"
     ]
    }
   ],
   "source": [
    "#summary statistics, diff of means\n",
    "diff_means = pd.DataFrame({'Avg (Program)': program_means, \n",
    "                           'Avg (Control)': no_program_means, \n",
    "                           'Difference': program_means - no_program_means,\n",
    "                           'p-value': p2}, \n",
    "                          index = program.columns)\n",
    "\n",
    "diff_means.sort_values(by=['p-value'], inplace=True)\n",
    "\n",
    "print(diff_means)"
   ]
  },
  {
   "cell_type": "markdown",
   "metadata": {
    "ein.tags": "worksheet-0",
    "slideshow": {
     "slide_type": "-"
    }
   },
   "source": [
    "Null hypothesis: there are no statistically significant differences in average values for  those of control villages and program-participating villages. <br>\n",
    "\n",
    "\n",
    "Since there were many p-values >> 0.05, we fail to reject the null hypothesis in most cases. However, there are several variables that have a statistically significant p-value. Those were: <br>\n",
    "- sex:  male = 1\n",
    "- min_dist: min distance to an urban center\n",
    "- hohedu: years of schooling of head of household\n",
    "- sc, and sc97: enrolled in school = 1 <br><br>\n",
    "\n",
    "**Possible explanations:**\n",
    "\n",
    "From the paper by Schultz: \"....larger distances to urban areas would raise the costs of\n",
    "migration to these markets and probably reduce the information available locally about wage structures or returns to schooling in the urban labor force.\" So as distances from urban centers increased, information collection might have become more difficult making it hard to split the villages or children into correct groups.<br>\n",
    "\n",
    "Demand for schooling could vary widely from family to family. A combination of parental education and distance to nearest school (or urban center) would be hard to randomize.<br>\n",
    "\n",
    "There was some discrepancy in the parental education column. For some children, only information about the mother and father were available. This meant that there is some error within the measurement, but the author notes that a significant portion of the data would have to be thrown away if only children with both parents were included in the data.<br>"
   ]
  },
  {
   "cell_type": "markdown",
   "metadata": {
    "ein.tags": "worksheet-0",
    "slideshow": {
     "slide_type": "-"
    }
   },
   "source": [
    "Let's compute the average enrollment rate in 1997. We can visualize our results by creating a scatterplot that shows this relationship."
   ]
  },
  {
   "cell_type": "code",
   "execution_count": 11,
   "metadata": {
    "autoscroll": false,
    "ein.tags": "worksheet-0",
    "slideshow": {
     "slide_type": "-"
    }
   },
   "outputs": [
    {
     "data": {
      "image/png": "[encoded data removed]",
      "text/plain": [
       "<Figure size 432x288 with 1 Axes>"
      ]
     },
     "metadata": {
      "needs_background": "light"
     },
     "output_type": "display_data"
    }
   ],
   "source": [
    "x = [data.hohedu.unique()]\n",
    "x.sort()\n",
    "\n",
    "list = []\n",
    "for i in np.arange(21):\n",
    "    temp = data.sc97[data['hohedu']==i].mean()\n",
    "    list.append(temp)\n",
    "\n",
    "del list[19]\n",
    "y = list\n",
    "\n",
    "plt.scatter(x, y)\n",
    "plt.xlabel('Years of Education (Head of household)')\n",
    "plt.ylabel('Average enrolllment rate in 1997')\n",
    "plt.show()"
   ]
  },
  {
   "cell_type": "markdown",
   "metadata": {
    "ein.tags": "worksheet-0",
    "slideshow": {
     "slide_type": "-"
    }
   },
   "source": [
    "Generally, enrollment rate and parents' total education level in years are positively correlated. That is, the more education the parent has, the higher the average enrollment rate for students.\n",
    "\n",
    "Now we can reate a histogram of village enrollment rates among poor households\n",
    "in program-participating villages, before and after the program.  Specifically, for\n",
    "each village, we can calculate the average rate of enrollment of poor\n",
    "households in villages that participated in the program in 1997, then compute the average rate\n",
    "of enrollment of poor households in program-participating villages in 1998."
   ]
  },
  {
   "cell_type": "code",
   "execution_count": 12,
   "metadata": {
    "autoscroll": false,
    "ein.tags": "worksheet-0",
    "slideshow": {
     "slide_type": "-"
    }
   },
   "outputs": [],
   "source": [
    "poor_andProgram = data[np.logical_and(data.poor_==1, data.progresa_==1)]\n",
    "\n",
    "#before program\n",
    "before = poor_andProgram[poor_andProgram.year==97]\n",
    "before_means = before.groupby(['village']).mean()\n",
    "before_enrollment = before_means['sc97']\n",
    "before_total_mean = before_enrollment.mean()\n",
    "\n",
    "#after program\n",
    "after = poor_andProgram[poor_andProgram.year==98]\n",
    "after_means = after.groupby(['village']).mean()\n",
    "after_enrollment = after_means['sc']\n",
    "after_total_mean = after_enrollment.mean()"
   ]
  },
  {
   "cell_type": "code",
   "execution_count": 13,
   "metadata": {},
   "outputs": [
    {
     "data": {
      "image/png": "[encoded data removed]",
      "text/plain": [
       "<Figure size 432x288 with 1 Axes>"
      ]
     },
     "metadata": {
      "needs_background": "light"
     },
     "output_type": "display_data"
    },
    {
     "data": {
      "image/png": "[encoded data removed]",
      "text/plain": [
       "<Figure size 432x288 with 1 Axes>"
      ]
     },
     "metadata": {
      "needs_background": "light"
     },
     "output_type": "display_data"
    }
   ],
   "source": [
    "#histogram for before data\n",
    "plt.hist(before_enrollment.values, histtype='stepfilled', bins=30)\n",
    "plt.axvline(x=before_total_mean, color='orange', linestyle='--', label=str(round(before_total_mean, 5)))\n",
    "\n",
    "plt.title('Enrollment rates, 1997')\n",
    "plt.xlabel('Rates of enrollment (%)')\n",
    "plt.ylabel('Frequency')\n",
    "plt.legend(loc='upper left')\n",
    "plt.show()\n",
    "\n",
    "#histogram for after data\n",
    "plt.hist(after_enrollment.values, histtype='stepfilled', bins=30)\n",
    "plt.axvline(x=after_total_mean, color='orange', linestyle='--', label=str(round(after_total_mean, 5)))\n",
    "\n",
    "plt.title('Enrollment rates, 1998')\n",
    "plt.xlabel('Rates of enrollment (%)')\n",
    "plt.ylabel('Frequency')\n",
    "plt.legend(loc='upper left')\n",
    "plt.show()"
   ]
  },
  {
   "cell_type": "code",
   "execution_count": 14,
   "metadata": {},
   "outputs": [],
   "source": [
    "#is before and after diff of means statistically significant?\n",
    "before_stdev = before_enrollment.std()\n",
    "n1 = len(before_enrollment.index)\n",
    "\n",
    "after_stdev = after_enrollment.std()\n",
    "n2 = len(after_enrollment.index)"
   ]
  },
  {
   "cell_type": "code",
   "execution_count": 15,
   "metadata": {},
   "outputs": [
    {
     "name": "stdout",
     "output_type": "stream",
     "text": [
      "p-value for before and after difference of means:  0.0221244\n"
     ]
    }
   ],
   "source": [
    "std_error3 = before_stdev**2 / n1\n",
    "std_error4 = after_stdev**2 / n2\n",
    "total_std_error1 = np.sqrt(std_error3 + std_error4)\n",
    "\n",
    "t_stat2 = (after_total_mean - before_total_mean) / total_std_error1\n",
    "\n",
    "#df for two samples is (n1 + n2) - 2\n",
    "degrees_freedom2 = n1 + n2 - 2\n",
    "\n",
    "pValue1 = 1 - stats.t.cdf(t_stat2, df=degrees_freedom2)\n",
    "p3 = pValue1.round(7)\n",
    "print('p-value for before and after difference of means: ', p3)"
   ]
  },
  {
   "cell_type": "markdown",
   "metadata": {
    "ein.tags": "worksheet-0",
    "slideshow": {
     "slide_type": "-"
    }
   },
   "source": [
    "There is a slight difference between the means in the before and after case for the rates of enrollment in poor villages where the program was applied. Perhaps more noticeable is the shift towards the right in the after case, where more data is towards higher enrollment rates (thus the shift in the mean). <br>\n",
    "\n",
    "After doing doing a significance test, we find a p-value of ~0.022, which means that the shift in the means would be highly unlikely without participating in the program. Therefore, I think this difference in the means is statistically significant."
   ]
  },
  {
   "cell_type": "markdown",
   "metadata": {
    "ein.tags": "worksheet-0",
    "slideshow": {
     "slide_type": "-"
    }
   },
   "source": [
    "## Measuring Impact\n",
    "\n",
    "Our goal is to estimate the causal impact of the PROGRESA program on\n",
    "the social and economic outcomes of individuals in Mexico. We will\n",
    "focus on the impact of the program on the poor, since only the poor were eligible to receive the PROGRESA assistance.\n",
    "\n",
    "### Cross-Sectional Estimator: T-test, ''simple differences''\n",
    "\n",
    "We can begin by estimating the impact of Progresa using \"simple differences.\"\n",
    "Restricting ourselves to data from 1998 (after program), we can calculate\n",
    "the average enrollment rate among **poor** households in the program-participating\n",
    "villages and the average enrollment rate among **poor** households in\n",
    "the control villages. Then we can use a t-test to determine if this difference is\n",
    "statistically significant."
   ]
  },
  {
   "cell_type": "code",
   "execution_count": 16,
   "metadata": {
    "autoscroll": false,
    "ein.tags": "worksheet-0",
    "slideshow": {
     "slide_type": "-"
    }
   },
   "outputs": [],
   "source": [
    "#program group\n",
    "poor_Program = data[np.logical_and(data.poor_==1, data.progresa_==1)]\n",
    "after_progresa = poor_Program[poor_Program.year==98]\n",
    "\n",
    "#non-program group\n",
    "poor_notProgram = data[np.logical_and(data.poor_==1, data.progresa_==0)]\n",
    "after_control = poor_notProgram[poor_notProgram.year==98]"
   ]
  },
  {
   "cell_type": "code",
   "execution_count": 17,
   "metadata": {},
   "outputs": [],
   "source": [
    "after_means_program = after_progresa.groupby(['village']).mean()\n",
    "after_program_enrollment = after_means_program['sc']\n",
    "after_program_mean = after_program_enrollment.mean()\n",
    "\n",
    "after_means_control = after_control.groupby(['village']).mean()\n",
    "after_control_enrollment = after_means_control['sc']\n",
    "after_control_mean = after_control_enrollment.mean()"
   ]
  },
  {
   "cell_type": "code",
   "execution_count": 18,
   "metadata": {},
   "outputs": [],
   "source": [
    "#t test\n",
    "ap_stdev = after_program_enrollment.std()\n",
    "_n1 = len(after_program_enrollment.index)\n",
    "\n",
    "ac_stdev = after_control_enrollment.std()\n",
    "_n2 = len(after_control_enrollment.index)"
   ]
  },
  {
   "cell_type": "code",
   "execution_count": 19,
   "metadata": {},
   "outputs": [
    {
     "name": "stdout",
     "output_type": "stream",
     "text": [
      "test statistic:  2.528676111365301 \n",
      "\n",
      "p-value for before and after difference of means:  0.005877\n"
     ]
    }
   ],
   "source": [
    "standard_error = ap_stdev**2 / _n1\n",
    "standard_error2 = ac_stdev**2 / _n2\n",
    "total_standard_error = np.sqrt(standard_error + standard_error2)\n",
    "\n",
    "t_statistic = (after_program_mean - after_control_mean) / total_standard_error\n",
    "print('test statistic: ', t_statistic, '\\n')\n",
    "\n",
    "#df for two samples is (n1 + n2) - 2\n",
    "d_free = _n1 + _n2 - 2\n",
    "\n",
    "p_value = 1 - stats.t.cdf(t_statistic, df=d_free)\n",
    "p = p_value.round(7)\n",
    "print('p-value for before and after difference of means: ', p)"
   ]
  },
  {
   "cell_type": "markdown",
   "metadata": {
    "ein.tags": "worksheet-0",
    "slideshow": {
     "slide_type": "-"
    }
   },
   "source": [
    "The p-value is extremely low. This means that we can reject the null hypothesis that there is no difference between the means of enrollment rates between villages that did and didn't participate in the program. Therefore, we can say that based on our statistically significant p-value, the program seemed to work in raising enrollment rates after the program analysis during 1998."
   ]
  },
  {
   "cell_type": "markdown",
   "metadata": {
    "ein.tags": "worksheet-0",
    "slideshow": {
     "slide_type": "-"
    }
   },
   "source": [
    "### Cross-Sectional Estimator: Regression\n",
    "\n",
    "We can estimate the effects of Progresa on enrollment using a regression\n",
    "model, by regressing the 1998 enrollment rates **of the poor** on\n",
    "whether or not they participated in the program."
   ]
  },
  {
   "cell_type": "code",
   "execution_count": 20,
   "metadata": {
    "autoscroll": false,
    "ein.tags": "worksheet-0",
    "slideshow": {
     "slide_type": "-"
    }
   },
   "outputs": [
    {
     "name": "stdout",
     "output_type": "stream",
     "text": [
      "                            OLS Regression Results                            \n",
      "==============================================================================\n",
      "Dep. Variable:                     sc   R-squared:                       0.003\n",
      "Model:                            OLS   Adj. R-squared:                  0.003\n",
      "Method:                 Least Squares   F-statistic:                     69.87\n",
      "Date:                Sat, 29 Jun 2019   Prob (F-statistic):           6.64e-17\n",
      "Time:                        20:42:05   Log-Likelihood:                -11926.\n",
      "No. Observations:               27450   AIC:                         2.386e+04\n",
      "Df Residuals:                   27448   BIC:                         2.387e+04\n",
      "Df Model:                           1                                         \n",
      "Covariance Type:            nonrobust                                         \n",
      "==============================================================================\n",
      "                 coef    std err          t      P>|t|      [0.025      0.975]\n",
      "------------------------------------------------------------------------------\n",
      "Intercept      0.8076      0.004    220.676      0.000       0.800       0.815\n",
      "progresa_      0.0388      0.005      8.359      0.000       0.030       0.048\n",
      "==============================================================================\n",
      "Omnibus:                     7638.939   Durbin-Watson:                   1.734\n",
      "Prob(Omnibus):                  0.000   Jarque-Bera (JB):            15767.534\n",
      "Skew:                          -1.767   Prob(JB):                         0.00\n",
      "Kurtosis:                       4.140   Cond. No.                         3.01\n",
      "==============================================================================\n",
      "\n",
      "Warnings:\n",
      "[1] Standard Errors assume that the covariance matrix of the errors is correctly specified.\n"
     ]
    }
   ],
   "source": [
    "#simple regression\n",
    "m = smf.ols(formula = \"sc ~ progresa_\", data=data[np.logical_and(data.year==98, data.poor_==1)]).fit()\n",
    "print(m.summary())"
   ]
  },
  {
   "cell_type": "markdown",
   "metadata": {
    "ein.tags": "worksheet-0",
    "slideshow": {
     "slide_type": "-"
    }
   },
   "source": [
    "Based on this model, the Progresa program increased the likelihood of a child enrolling by ~3.8%. The intercept can be interpreted as the base enrollment given no access to the program, and the coefficient of enrollment rates is 0.0388, corresponding to the indicated increase. <br>\n",
    "\n",
    "This regression estimate is larger than my t-test estimate from the T-test, \"simple differences\" section. This actually means that there is even more reason to reject the null hypothesis. My t-statistic is farther from 0, meaning that it is more likely that there *is* a statistically significant difference between the means. And futhermore, my p-values in the regression model are smaller, which backs up this claim.<br>\n",
    "\n",
    "Based on this regression model, I believe that we can reject the null hypothesis that the program effects are zero because of the incredibly low p-values.<br>\n",
    "\n",
    "The counterfacutal assumption underlying this regression is that a child cannot be both in a program-participating group and a control group. That is, for each child, they can either be experiencing the Progresa program or not experiencing it, but not both."
   ]
  },
  {
   "cell_type": "markdown",
   "metadata": {
    "ein.tags": "worksheet-0",
    "slideshow": {
     "slide_type": "-"
    }
   },
   "source": [
    "### Multiple Regression\n",
    "\n",
    "Now we can re-run the above regression estimated but this time include a set of\n",
    "relevant control variables (for instance, age, distance to a secondary\n",
    "school, gender, education of household head, welfare index,\n",
    "indigenous, etc.)."
   ]
  },
  {
   "cell_type": "code",
   "execution_count": 21,
   "metadata": {
    "autoscroll": false,
    "ein.tags": "worksheet-0",
    "slideshow": {
     "slide_type": "-"
    }
   },
   "outputs": [
    {
     "name": "stdout",
     "output_type": "stream",
     "text": [
      "                            OLS Regression Results                            \n",
      "==============================================================================\n",
      "Dep. Variable:                     sc   R-squared:                       0.271\n",
      "Model:                            OLS   Adj. R-squared:                  0.271\n",
      "Method:                 Least Squares   F-statistic:                     1015.\n",
      "Date:                Sat, 29 Jun 2019   Prob (F-statistic):               0.00\n",
      "Time:                        20:42:05   Log-Likelihood:                -7556.2\n",
      "No. Observations:               27264   AIC:                         1.513e+04\n",
      "Df Residuals:                   27253   BIC:                         1.522e+04\n",
      "Df Model:                          10                                         \n",
      "Covariance Type:            nonrobust                                         \n",
      "=================================================================================\n",
      "                    coef    std err          t      P>|t|      [0.025      0.975]\n",
      "---------------------------------------------------------------------------------\n",
      "Intercept         1.4416      0.017     86.730      0.000       1.409       1.474\n",
      "progresa_         0.0323      0.004      8.071      0.000       0.024       0.040\n",
      "age              -0.0656      0.001    -95.496      0.000      -0.067      -0.064\n",
      "hohedu            0.0082      0.001     10.421      0.000       0.007       0.010\n",
      "hohsex            0.0104      0.008      1.356      0.175      -0.005       0.025\n",
      "hohwag        -1.621e-06   2.81e-06     -0.576      0.565   -7.14e-06     3.9e-06\n",
      "dist_sec         -0.0113      0.001    -12.843      0.000      -0.013      -0.010\n",
      "min_dist          0.0006   4.88e-05     12.697      0.000       0.001       0.001\n",
      "indig             0.0283      0.004      6.429      0.000       0.020       0.037\n",
      "sex               0.0304      0.004      7.863      0.000       0.023       0.038\n",
      "welfare_index  2.552e-05   1.72e-05      1.480      0.139   -8.28e-06    5.93e-05\n",
      "==============================================================================\n",
      "Omnibus:                     2947.112   Durbin-Watson:                   1.727\n",
      "Prob(Omnibus):                  0.000   Jarque-Bera (JB):             4004.089\n",
      "Skew:                          -0.931   Prob(JB):                         0.00\n",
      "Kurtosis:                       3.237   Cond. No.                     9.03e+03\n",
      "==============================================================================\n",
      "\n",
      "Warnings:\n",
      "[1] Standard Errors assume that the covariance matrix of the errors is correctly specified.\n",
      "[2] The condition number is large, 9.03e+03. This might indicate that there are\n",
      "strong multicollinearity or other numerical problems.\n"
     ]
    }
   ],
   "source": [
    "#multiple regression\n",
    "m = smf.ols(formula = \"sc ~ progresa_ + age + hohedu + hohsex + hohwag + dist_sec + min_dist + indig + sex + welfare_index\", \n",
    "            data=data[np.logical_and(data.year==98, data.poor_==1)]).fit()\n",
    "print(m.summary())"
   ]
  },
  {
   "cell_type": "markdown",
   "metadata": {
    "ein.tags": "worksheet-0",
    "slideshow": {
     "slide_type": "-"
    }
   },
   "source": [
    "When including other factors into the regression equation, the base level for enrollment without the program goes up.<br>\n",
    "\n",
    "It was also noteworthy that head of household wage and welfare index had nearly zero effect on enrollment rate. This could be because we are looking at poor subsets of the population, so perhaps the wage gaps given that different families were considered \"poor\" weren't that high.<br>\n",
    "\n",
    "The factors that seemed to influence enrollment rates (other than poor_==1 and progresa_==1, of course), are gender (positive for males), and whether the family had indigenous roots. My hypothesis is that poor indigenous families may have had a disproportionate lack of funds before the program started, so Progresa was more likely to positively impact those families. However, further evidence is needed to support that claim. <br>\n",
    "\n",
    "And in the opposite direction, it seemed that that age seemed to negatively affect how well the program worked. This could be because of the way the program was incentivized: promising to pay for education from the 2nd or 3rd grade through 8th or 9th grade (accepting that this might change due to political changes as the presidential election was coming up), perhaps families with children just starting school were more likely to join and use the program. This could also mean that children who had already missed a certain amount of schooling (or already completed a certain amount) were likely to retain the same enrollment habits as before. Or that there was something else entirely going on outside of the program that made the changes. These correspond to a set of three stories we could tell ourselves about causality.<br>\n",
    "\n",
    "Standard error seems to decrease for the intercept, while that of 'progresa_ stays the same."
   ]
  },
  {
   "cell_type": "markdown",
   "metadata": {
    "ein.tags": "worksheet-0",
    "slideshow": {
     "slide_type": "-"
    }
   },
   "source": [
    "### Difference-in-Difference\n",
    "\n",
    "Instead of computing the difference in 1998 enrollment rates across villages, we could compute the effect of the program using a differences-in-differences approach.\n",
    "\n",
    "We can construct our analysis by using:\n",
    "\n",
    "a) the difference (between 1997 and 1998) in enrollment rates among poor households in program-participating villages\n",
    "\n",
    "b) the difference (between 1997 and 1998) in enrollment rates among poor households in control villages.\n",
    "\n",
    "c) The difference between these two differences is our estimate."
   ]
  },
  {
   "cell_type": "code",
   "execution_count": 22,
   "metadata": {},
   "outputs": [
    {
     "name": "stdout",
     "output_type": "stream",
     "text": [
      "poor_  year   progresa_\n",
      "False  False  False        0.000034\n",
      "              True        -0.000034\n",
      "       True   False       -0.000034\n",
      "              True         0.000034\n",
      "True   False  False        0.031331\n",
      "              True        -0.031331\n",
      "       True   False       -0.031331\n",
      "              True         0.031331\n",
      "Name: sc, dtype: float64\n"
     ]
    }
   ],
   "source": [
    "#before/after, with program\n",
    "#eap = enrollment after program\n",
    "#ebp = enrollment before program\n",
    "eap = data.groupby([data.poor_==1,data.year==98, data.progresa_==1])['sc'].mean()\n",
    "ebp = data.groupby([data.poor_==1,data.year==97, data.progresa_==1])['sc'].mean()\n",
    "program = eap - ebp\n",
    "\n",
    "#before/after, control\n",
    "eac = data.groupby([data.poor_==1,data.year==98, data.progresa_==0])['sc'].mean()\n",
    "ebc = data.groupby([data.poor_==1,data.year==97, data.progresa_==0])['sc'].mean()\n",
    "control = eac - ebc\n",
    "\n",
    "#diff-in-diff\n",
    "diff_diff = program - control\n",
    "\n",
    "print(diff_diff)"
   ]
  },
  {
   "cell_type": "markdown",
   "metadata": {
    "ein.tags": "worksheet-0",
    "slideshow": {
     "slide_type": "-"
    }
   },
   "source": [
    "Looking at the table and reading off poor_ = True, year = True, progresa_ = True, we see that this simple diff-in-diff estimator has calculated a 3.1% difference in enrollment rates for poor, program-participating villages accounting for the year before and after the program started. Enrollment rates when accounting for the Progresa program seem to be hovering around 3%, although this value is a bit less than when we calculated the diff-in-diff estimate comparing 'sc' and 'progresa_' alone.<br>\n",
    "\n",
    "I think that the counterfacutal assumption underlying this estimate is that a child cannot be both in a program-participating group and a control group. We cannot observe a child have bother undergone the Progresa program and not undergone it."
   ]
  },
  {
   "cell_type": "markdown",
   "metadata": {
    "ein.tags": "worksheet-0",
    "slideshow": {
     "slide_type": "-"
    }
   },
   "source": [
    "### Difference-in-Difference (regression)\n",
    "\n",
    "What about using regression to estime the average program effects?"
   ]
  },
  {
   "cell_type": "code",
   "execution_count": 23,
   "metadata": {
    "autoscroll": false,
    "ein.tags": "worksheet-0",
    "slideshow": {
     "slide_type": "-"
    }
   },
   "outputs": [
    {
     "name": "stdout",
     "output_type": "stream",
     "text": [
      "                            OLS Regression Results                            \n",
      "==============================================================================\n",
      "Dep. Variable:                     sc   R-squared:                       0.006\n",
      "Model:                            OLS   Adj. R-squared:                  0.006\n",
      "Method:                 Least Squares   F-statistic:                     77.46\n",
      "Date:                Sat, 29 Jun 2019   Prob (F-statistic):           2.77e-81\n",
      "Time:                        20:42:05   Log-Likelihood:                -31560.\n",
      "No. Observations:               68564   AIC:                         6.313e+04\n",
      "Df Residuals:                   68558   BIC:                         6.319e+04\n",
      "Df Model:                           5                                         \n",
      "Covariance Type:            nonrobust                                         \n",
      "========================================================================================\n",
      "                           coef    std err          t      P>|t|      [0.025      0.975]\n",
      "----------------------------------------------------------------------------------------\n",
      "Intercept                0.7703      0.005    163.013      0.000       0.761       0.780\n",
      "poor_                    0.0269      0.004      6.517      0.000       0.019       0.035\n",
      "progresa_                0.0118      0.004      2.850      0.004       0.004       0.020\n",
      "nine_eight              -0.0045      0.005     -0.947      0.344      -0.014       0.005\n",
      "progresa_:nine_eight     0.0263      0.006      4.362      0.000       0.015       0.038\n",
      "indig                    0.0468      0.003     14.391      0.000       0.040       0.053\n",
      "==============================================================================\n",
      "Omnibus:                    16946.749   Durbin-Watson:                   1.413\n",
      "Prob(Omnibus):                  0.000   Jarque-Bera (JB):            32666.078\n",
      "Skew:                          -1.648   Prob(JB):                         0.00\n",
      "Kurtosis:                       3.754   Cond. No.                         9.23\n",
      "==============================================================================\n",
      "\n",
      "Warnings:\n",
      "[1] Standard Errors assume that the covariance matrix of the errors is correctly specified.\n"
     ]
    }
   ],
   "source": [
    "#dff-in-diff, regression\n",
    "data['nine_eight'] = np.where(data.year == 98, 1, 0)\n",
    "\n",
    "#diff-in-diff effect: progresa_ * nine_eight\n",
    "# this is: program + time + program*time\n",
    "m = smf.ols(formula = \"sc ~ poor_ + progresa_ + nine_eight + progresa_ * nine_eight + indig\", \n",
    "            data=data).fit()\n",
    "\n",
    "print(m.summary())"
   ]
  },
  {
   "cell_type": "markdown",
   "metadata": {
    "ein.tags": "worksheet-0",
    "slideshow": {
     "slide_type": "-"
    }
   },
   "source": [
    "I think that the effects of the Progresa program were overall positive. As we can see, the coefficients of the poor_ and progresa_ terms are non-trivial (together accounting for more than a 3% increase in enrollment rates), and the standard errors as well as the p-values are very low. This means that we can be sure the effects are due to the program, and not random chance. The time column, nine_eight, has a negative effect on enrollment rates, but the p-value is high. Enough so that we cannot be sure that it is anywhere close to statistically significant. This can be translated to being unsure whether the enrollment rates increased or decreased due to the program or time alone. When we look at the progresa_:nine_eight coefficient (program accounting for time), we see that it has a relatively large positive effect (~2.5%) on enrollment rates, and that it has a low standard error and a p-value of 0.015. This is means we can call the program account for time's coefficient as statistically significant.<br>\n",
    "\n",
    "The value I obtained for progresa_:nine_eight, my diff-in-diff estimator, is very close to that of the value I obtained doing the simple difference calculation in part 2.1.<br>\n",
    "\n",
    "The rate of enrollment due to the Progresa program alone is smalller than it was in part 2.4. This is most likely because we are now taking into account things like whether a family has indigenous roots or not. However, if we add the poor_, nine_eight, and progresa_ coeffiecients together, the value is almost exactly that of what we got in part 2.4<br>\n",
    "\n",
    "The counterfactual assumption underlying this regression is that one cannot be both both (poor, participate in the program, and indigenous) and (not poor, be in the control group, and not indigenous)."
   ]
  },
  {
   "cell_type": "markdown",
   "metadata": {
    "ein.tags": "worksheet-0",
    "slideshow": {
     "slide_type": "-"
    }
   },
   "source": [
    "### Summary\n",
    "\n",
    "I do believe that the Progresa program had a causal impact on the enrollment rates of poor households in Mexico. We analyzed the baseline demographic characteristics and found little to no differences between program-participating and control villages. After comparing the program-participating and control groups enrollment rates, the program versus time enrollment rates, and control and program-participating villages both against time, again and again we have seen that enrollment rates are consistently higher due to the program. This even holds after taking into account many important control variables. <br>\n",
    "\n",
    "There were some noticeable exceptions when the Progresa program did not help, however. Principally, it seems that as age increased, the enrollment rates decreased. I have speculated about that above. It could be due to as a child learns more sellable skills as they age, the investment into schooling even given Progresa does not return enough for the family to have the child stop working and omit their income from the family pool. It could be for a multitude of reasons, but I think that without further analysis every explanation remains speculative. <br>\n",
    "\n",
    "I would say that the data does point to the program being most effective when the child is young, the family is indigenous, and when the distance to a secondary school isn't too far away. I think this is a combination of factors resulting in a maximum return for indigenous families investing in their child's education. This might perhaps point to the fact that poor, indigenous families have less opportunites to send their child to school than their counterparts.<br>\n",
    "\n",
    "One interesting thing to note: I saw a positive increase in enrollment rates for males after accounting for program and time, even though the author found the opposite to be true. And with a low p-value, I think this result is statistically significant, although the standard error associated to this result is rather high."
   ]
  },
  {
   "cell_type": "code",
   "execution_count": null,
   "metadata": {},
   "outputs": [],
   "source": []
  }
 ],
 "metadata": {
  "kernelspec": {
   "display_name": "Python 3",
   "language": "python",
   "name": "python3"
  },
  "language_info": {
   "codemirror_mode": {
    "name": "ipython",
    "version": 3
   },
   "file_extension": ".py",
   "mimetype": "text/x-python",
   "name": "python",
   "nbconvert_exporter": "python",
   "pygments_lexer": "ipython3",
   "version": "3.6.8"
  },
  "name": "ps03_progresa.ipynb"
 },
 "nbformat": 4,
 "nbformat_minor": 1
}
